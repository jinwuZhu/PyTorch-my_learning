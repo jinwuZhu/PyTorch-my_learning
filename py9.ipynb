{
 "cells": [
  {
   "cell_type": "code",
   "execution_count": 31,
   "metadata": {},
   "outputs": [],
   "source": [
    "import torch\n",
    "from torchvision import transforms\n",
    "from torchvision import datasets\n",
    "from torch.utils.data import DataLoader\n",
    "import torch.nn.functional as F\n",
    "import torch.optim as optim\n",
    "import matplotlib.pyplot as plt"
   ]
  },
  {
   "cell_type": "code",
   "execution_count": 32,
   "metadata": {},
   "outputs": [
    {
     "name": "stdout",
     "output_type": "stream",
     "text": [
      "cuda:0\n"
     ]
    }
   ],
   "source": [
    "batch_size = 64\n",
    "transform = transforms.Compose([transforms.ToTensor(), transforms.Normalize((0.1307,), (0.3081,))])\n",
    "device = torch.device(\"cuda:0\" if torch.cuda.is_available() else \"cpu\")\n",
    "print(device)\n",
    "train_dataset = datasets.MNIST(root='./dataset/mnist/', train=True, download=True, transform=transform)\n",
    "train_loader = DataLoader(train_dataset, shuffle=True, batch_size=batch_size)\n",
    "test_dataset = datasets.MNIST(root='./dataset/mnist/', train=False, download=True, transform=transform)\n",
    "test_loader = DataLoader(test_dataset, shuffle=False, batch_size=batch_size)"
   ]
  },
  {
   "cell_type": "code",
   "execution_count": 33,
   "metadata": {},
   "outputs": [],
   "source": [
    "class Block(torch.nn.Module):\n",
    "    def __init__(self,channels) -> None:\n",
    "        super().__init__()\n",
    "        self.conv1 = torch.nn.Conv2d(in_channels=channels,out_channels=channels,kernel_size=3,padding=1)\n",
    "        self.conv2 = torch.nn.Conv2d(in_channels=channels,out_channels=channels,kernel_size=3,padding=1)\n",
    "    \n",
    "    def forward(self, x):\n",
    "        y = F.relu(self.conv1(x))\n",
    "        y = self.conv2(y)\n",
    "        return F.relu(y + x)\n",
    "\n",
    "\n",
    "class Net(torch.nn.Module):\n",
    "    def __init__(self):\n",
    "        super(Net, self).__init__()\n",
    "        self.conv1 = torch.nn.Conv2d(in_channels=1,out_channels=16,kernel_size=5)\n",
    "        self.conv2 = torch.nn.Conv2d(in_channels=16,out_channels=32,kernel_size=5)\n",
    "        self.block1 = Block(16)\n",
    "        self.block2 = Block(32)\n",
    "        self.maxpool = torch.nn.MaxPool2d(2) \n",
    "        self.linear = torch.nn.Linear(512, 10)\n",
    " \n",
    "    def forward(self, x):\n",
    "        batch_size = x.size(0)\n",
    "        x = self.maxpool(self.conv1(x)) # 16*12*12\n",
    "        x = self.block1(x)\n",
    "        x = self.maxpool(self.conv2(x)) # 32*4*4\n",
    "        x = self.block2(x)\n",
    "        x = x.view(batch_size,-1)\n",
    "        x = self.linear(x)\n",
    "        return x"
   ]
  },
  {
   "cell_type": "code",
   "execution_count": 34,
   "metadata": {},
   "outputs": [],
   "source": [
    "model = Net()\n",
    "model.to(device=device)\n",
    "criterion = torch.nn.CrossEntropyLoss()\n",
    "optimizer = optim.SGD(model.parameters(), lr=0.01, momentum=0.5)"
   ]
  },
  {
   "cell_type": "code",
   "execution_count": 35,
   "metadata": {},
   "outputs": [],
   "source": [
    "def train(epoch):\n",
    "    running_loss = 0.0\n",
    "    for batch_idx, data in enumerate(train_loader, 0):\n",
    "        # 获得一个批次的数据和标签\n",
    "        inputs, target = data\n",
    "        inputs, target = inputs.to(device=device), target.to(device=device)\n",
    "        optimizer.zero_grad()\n",
    "        # 获得模型预测结果(64, 10)\n",
    "        outputs = model(inputs)\n",
    "        # 交叉熵代价函数outputs(64,10),target（64）\n",
    "        loss = criterion(outputs, target)\n",
    "        loss.backward()\n",
    "        optimizer.step()\n",
    " \n",
    "        running_loss += loss.item()\n",
    "        if batch_idx % 300 == 299:\n",
    "            print('[%d, %5d] loss: %.3f' % (epoch+1, batch_idx+1, running_loss/300))\n",
    "            running_loss = 0.0\n",
    " \n",
    " \n",
    "def test():\n",
    "    correct = 0\n",
    "    total = 0\n",
    "    with torch.no_grad():\n",
    "        for data in test_loader:\n",
    "            images, labels = data\n",
    "            images, labels = images.to(device=device), labels.to(device=device)\n",
    "            outputs = model(images)\n",
    "            _, predicted = torch.max(outputs.data, dim=1) # dim = 1 列是第0个维度，行是第1个维度\n",
    "            total += labels.size(0)\n",
    "            correct += (predicted == labels).sum().item() # 张量之间的比较运算\n",
    "    return correct/total"
   ]
  },
  {
   "cell_type": "code",
   "execution_count": 36,
   "metadata": {},
   "outputs": [
    {
     "name": "stdout",
     "output_type": "stream",
     "text": [
      "[1,   300] loss: 0.471\n",
      "[1,   600] loss: 0.155\n",
      "[1,   900] loss: 0.109\n",
      "train_accuracy (97,97) epoch:0\n",
      "[2,   300] loss: 0.083\n",
      "[2,   600] loss: 0.076\n",
      "[2,   900] loss: 0.075\n",
      "train_accuracy (98,98) epoch:1\n",
      "[3,   300] loss: 0.060\n",
      "[3,   600] loss: 0.053\n",
      "[3,   900] loss: 0.057\n",
      "train_accuracy (98,98) epoch:2\n",
      "[4,   300] loss: 0.048\n",
      "[4,   600] loss: 0.045\n",
      "[4,   900] loss: 0.046\n",
      "train_accuracy (98,98) epoch:3\n",
      "[5,   300] loss: 0.039\n",
      "[5,   600] loss: 0.038\n",
      "[5,   900] loss: 0.038\n",
      "[6,   300] loss: 0.032\n",
      "[6,   600] loss: 0.036\n",
      "[6,   900] loss: 0.033\n",
      "train_accuracy (98,98) epoch:5\n",
      "[7,   300] loss: 0.031\n",
      "[7,   600] loss: 0.027\n",
      "[7,   900] loss: 0.029\n",
      "[8,   300] loss: 0.022\n",
      "[8,   600] loss: 0.026\n",
      "[8,   900] loss: 0.030\n",
      "train_accuracy (98,98) epoch:7\n",
      "[9,   300] loss: 0.023\n",
      "[9,   600] loss: 0.023\n",
      "[9,   900] loss: 0.023\n",
      "train_accuracy (99,99) epoch:8\n",
      "[10,   300] loss: 0.018\n",
      "[10,   600] loss: 0.022\n",
      "[10,   900] loss: 0.021\n",
      "train_accuracy (99,99) epoch:9\n",
      "accuracy (99,99)\n"
     ]
    },
    {
     "data": {
      "image/png": "[encoded data removed]",
      "text/plain": [
       "<Figure size 640x480 with 1 Axes>"
      ]
     },
     "metadata": {},
     "output_type": "display_data"
    }
   ],
   "source": [
    "if __name__ == '__main__':\n",
    "    accuracy_max = 0\n",
    "    accuracy = 0\n",
    "    accuracys = []\n",
    "    for epoch in range(10):\n",
    "        train(epoch)\n",
    "        accuracy = test()\n",
    "        if(accuracy_max < accuracy):\n",
    "            accuracy_max = accuracy\n",
    "            print(\"save: train_accuracy (%d,%d) epoch:%d\"%(accuracy* 100,accuracy_max * 100,epoch))\n",
    "            torch.save(model.state_dict(), \"./save/py9.pt\")\n",
    "        accuracys.append(accuracy)\n",
    "    print(\"accuracy (%d,%d)\"%(accuracy* 100,accuracy_max * 100))\n",
    "    plt.plot(accuracys)"
   ]
  }
 ],
 "metadata": {
  "kernelspec": {
   "display_name": "Python 3",
   "language": "python",
   "name": "python3"
  },
  "language_info": {
   "codemirror_mode": {
    "name": "ipython",
    "version": 3
   },
   "file_extension": ".py",
   "mimetype": "text/x-python",
   "name": "python",
   "nbconvert_exporter": "python",
   "pygments_lexer": "ipython3",
   "version": "3.10.10"
  },
  "orig_nbformat": 4
 },
 "nbformat": 4,
 "nbformat_minor": 2
}
